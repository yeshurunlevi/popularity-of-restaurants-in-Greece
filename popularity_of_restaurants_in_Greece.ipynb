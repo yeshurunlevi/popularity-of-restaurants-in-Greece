{
  "cells": [
    {
      "cell_type": "markdown",
      "metadata": {
        "id": "view-in-github",
        "colab_type": "text"
      },
      "source": [
        "<a href=\"https://colab.research.google.com/github/yeshurunlevi/popularity-of-restaurants-in-Greece/blob/main/popularity_of_restaurants_in_Greece.ipynb\" target=\"_parent\"><img src=\"https://colab.research.google.com/assets/colab-badge.svg\" alt=\"Open In Colab\"/></a>"
      ]
    },
    {
      "cell_type": "markdown",
      "metadata": {
        "id": "WIlzw1Ap1R-C"
      },
      "source": [
        "columns:\n",
        "\n",
        "link - ID?\n",
        "\n",
        "name - name\n",
        "\n",
        "original_location - list of all\n",
        "\n",
        "claimed - restaurant business claimed on TripAdvisor\n",
        "\n",
        "awards - awards, when get.\n",
        "\n",
        "popularity_detailed - popularity detailed ranking\n",
        "\n",
        "popularity_generic - popularity generic ranking (among all places to eat in the area)\n",
        "\n",
        "top_tags - top tag names (key words?)\n",
        "\n",
        "price_level - level of prices in current currency (data scraped from www.tripadvisor.ie - so currency is €)\n",
        "\n",
        "price_range - range of prices in current currency (ranges displayed on TripAdvisor seem to be quite unreliable)\n",
        "\n",
        "meals - types of meal\n",
        "\n",
        "cuisines - types of cuisine\n",
        "\n",
        "special_diets - types of special diets\n",
        "\n",
        "features - restaurant features\n",
        "\n",
        "vegetarian_friendly - is the restaurant vegetarian friendly?\n",
        "\n",
        "vegan_options - does the restaurant offer vegan options?\n",
        "\n",
        "gluten_free - does the restaurant gluten-free options?"
      ]
    },
    {
      "cell_type": "markdown",
      "source": [
        "##edit_1"
      ],
      "metadata": {
        "id": "AyrvWObiSOFD"
      }
    },
    {
      "cell_type": "code",
      "execution_count": 26,
      "metadata": {
        "id": "Aaz9VU7Suea1",
        "colab": {
          "base_uri": "https://localhost:8080/"
        },
        "outputId": "9cecc45e-fddf-4224-eb8d-f1e0e6a081b6"
      },
      "outputs": [
        {
          "output_type": "stream",
          "name": "stderr",
          "text": [
            "<ipython-input-26-9216e2ab3be7>:6: DtypeWarning: Columns (4) have mixed types. Specify dtype option on import or set low_memory=False.\n",
            "  df = pd.read_csv(r'/content/drive/MyDrive/Trip Advisor EU restaurants /tripadvisor_european_restaurants.csv')\n"
          ]
        }
      ],
      "source": [
        "import pandas as pd\n",
        "import numpy as np\n",
        "\n",
        "from sklearn.preprocessing import LabelEncoder\n",
        "\n",
        "df = pd.read_csv(r'/content/drive/MyDrive/Trip Advisor EU restaurants /tripadvisor_european_restaurants.csv')"
      ]
    },
    {
      "cell_type": "code",
      "execution_count": 27,
      "metadata": {
        "id": "MCc9vyJ3ut3w",
        "colab": {
          "base_uri": "https://localhost:8080/"
        },
        "outputId": "65699a9d-a3e0-4f3f-d493-ca29d84cac9d"
      },
      "outputs": [
        {
          "output_type": "stream",
          "name": "stdout",
          "text": [
            "<class 'pandas.core.frame.DataFrame'>\n",
            "RangeIndex: 1083397 entries, 0 to 1083396\n",
            "Data columns (total 42 columns):\n",
            " #   Column                             Non-Null Count    Dtype  \n",
            "---  ------                             --------------    -----  \n",
            " 0   restaurant_link                    1083397 non-null  object \n",
            " 1   restaurant_name                    1083396 non-null  object \n",
            " 2   original_location                  1083397 non-null  object \n",
            " 3   country                            1083397 non-null  object \n",
            " 4   region                             1033074 non-null  object \n",
            " 5   province                           742765 non-null   object \n",
            " 6   city                               682712 non-null   object \n",
            " 7   address                            1083397 non-null  object \n",
            " 8   latitude                           1067607 non-null  float64\n",
            " 9   longitude                          1067607 non-null  float64\n",
            " 10  claimed                            1081555 non-null  object \n",
            " 11  awards                             263133 non-null   object \n",
            " 12  popularity_detailed                988409 non-null   object \n",
            " 13  popularity_generic                 985605 non-null   object \n",
            " 14  top_tags                           972763 non-null   object \n",
            " 15  price_level                        806192 non-null   object \n",
            " 16  price_range                        304327 non-null   object \n",
            " 17  meals                              635347 non-null   object \n",
            " 18  cuisines                           914294 non-null   object \n",
            " 19  special_diets                      340256 non-null   object \n",
            " 20  features                           317407 non-null   object \n",
            " 21  vegetarian_friendly                1083397 non-null  object \n",
            " 22  vegan_options                      1083397 non-null  object \n",
            " 23  gluten_free                        1083397 non-null  object \n",
            " 24  original_open_hours                593832 non-null   object \n",
            " 25  open_days_per_week                 593832 non-null   float64\n",
            " 26  open_hours_per_week                593832 non-null   float64\n",
            " 27  working_shifts_per_week            593832 non-null   float64\n",
            " 28  avg_rating                         986761 non-null   float64\n",
            " 29  total_reviews_count                1031162 non-null  float64\n",
            " 30  default_language                   988204 non-null   object \n",
            " 31  reviews_count_in_default_language  988204 non-null   float64\n",
            " 32  excellent                          988204 non-null   float64\n",
            " 33  very_good                          988204 non-null   float64\n",
            " 34  average                            988204 non-null   float64\n",
            " 35  poor                               988204 non-null   float64\n",
            " 36  terrible                           988204 non-null   float64\n",
            " 37  food                               599325 non-null   float64\n",
            " 38  service                            604287 non-null   float64\n",
            " 39  value                              602692 non-null   float64\n",
            " 40  atmosphere                         261785 non-null   float64\n",
            " 41  keywords                           99198 non-null    object \n",
            "dtypes: float64(17), object(25)\n",
            "memory usage: 347.2+ MB\n"
          ]
        }
      ],
      "source": [
        "df.info()"
      ]
    },
    {
      "cell_type": "code",
      "execution_count": 28,
      "metadata": {
        "id": "Adl5QvZx3BNs",
        "colab": {
          "base_uri": "https://localhost:8080/"
        },
        "outputId": "f3a41842-58c7-41d5-f8d4-e113beb6e766"
      },
      "outputs": [
        {
          "output_type": "stream",
          "name": "stderr",
          "text": [
            "<ipython-input-28-f49f0068eb8d>:5: FutureWarning: DataFrame.applymap has been deprecated. Use DataFrame.map instead.\n",
            "  df2 = df2.applymap(lambda x: x.lower() if isinstance(x, str) else x)\n"
          ]
        }
      ],
      "source": [
        "df2 = df.copy()\n",
        "df2 = df2[(df['total_reviews_count'] >= 10) & (df['country'] == 'Greece')]\n",
        "\n",
        "#df2 = df2.applymap(lambda x: x.replace(\" \", \"\") if isinstance(x, str) else x)\n",
        "df2 = df2.applymap(lambda x: x.lower() if isinstance(x, str) else x)\n",
        "\n",
        "\n",
        "def succ(x):\n",
        "  if x >= 4.5:\n",
        "    return 1\n",
        "  else:\n",
        "    return 0\n",
        "df2['success (target)'] = [succ(x) for x in df2['avg_rating']]"
      ]
    },
    {
      "cell_type": "code",
      "execution_count": 29,
      "metadata": {
        "id": "dNftqp-G-1Lh",
        "colab": {
          "base_uri": "https://localhost:8080/",
          "height": 0
        },
        "outputId": "8a8b0744-187e-4de9-dc6f-c7adc4236af1"
      },
      "outputs": [
        {
          "output_type": "execute_result",
          "data": {
            "text/plain": [
              "success (target)\n",
              "1    13796\n",
              "0     8194\n",
              "Name: count, dtype: int64"
            ],
            "text/html": [
              "<div>\n",
              "<style scoped>\n",
              "    .dataframe tbody tr th:only-of-type {\n",
              "        vertical-align: middle;\n",
              "    }\n",
              "\n",
              "    .dataframe tbody tr th {\n",
              "        vertical-align: top;\n",
              "    }\n",
              "\n",
              "    .dataframe thead th {\n",
              "        text-align: right;\n",
              "    }\n",
              "</style>\n",
              "<table border=\"1\" class=\"dataframe\">\n",
              "  <thead>\n",
              "    <tr style=\"text-align: right;\">\n",
              "      <th></th>\n",
              "      <th>count</th>\n",
              "    </tr>\n",
              "    <tr>\n",
              "      <th>success (target)</th>\n",
              "      <th></th>\n",
              "    </tr>\n",
              "  </thead>\n",
              "  <tbody>\n",
              "    <tr>\n",
              "      <th>1</th>\n",
              "      <td>13796</td>\n",
              "    </tr>\n",
              "    <tr>\n",
              "      <th>0</th>\n",
              "      <td>8194</td>\n",
              "    </tr>\n",
              "  </tbody>\n",
              "</table>\n",
              "</div><br><label><b>dtype:</b> int64</label>"
            ]
          },
          "metadata": {},
          "execution_count": 29
        }
      ],
      "source": [
        "df2['success (target)'].value_counts()"
      ]
    },
    {
      "cell_type": "code",
      "execution_count": 30,
      "metadata": {
        "id": "xplnN_yyWFcD"
      },
      "outputs": [],
      "source": [
        "# Extract only the ranking number, handling NaNs\n",
        "df2[\"popularity_detailed\"], df2[\"restaurants\"] = df[\"popularity_detailed\"].str.extract(r'#(\\d)'), df[\"popularity_detailed\"].str.extract(r'#(\\d+)')\n",
        "df2[\"popularity_generic\"], df2[\"places\"] = df[\"popularity_generic\"].str.extract(r'#(\\d)'), df[\"popularity_generic\"].str.extract(r'#(\\d+)')\n",
        "\n",
        "df2[\"popularity_detailed\"], df2[\"restaurants\"], df2[\"popularity_generic\"], df2[\"places\"] = df2[\"popularity_detailed\"].astype(float), df2[\"restaurants\"].astype(float), df2[\"popularity_generic\"].astype(float), df2[\"places\"].astype(float)"
      ]
    },
    {
      "cell_type": "code",
      "source": [
        "\n",
        "df2['price_level'] = df['price_level'].map({'€': 1, '€€-€€€': 2.5, '€€€€': 4})\n",
        "df2['claimed'] = df['claimed'].map({'Claimed': 1, 'Unclaimed': 0})\n",
        "df2['default_language'] = df['default_language'].map({'English': 0, 'All languages': 1})"
      ],
      "metadata": {
        "id": "EtAdFeucBpgg"
      },
      "execution_count": 31,
      "outputs": []
    },
    {
      "cell_type": "code",
      "source": [
        "\n",
        "import ast\n",
        "\n",
        "# Function to process opening hours safely\n",
        "def process_opening_hours(opening_hours):\n",
        "    if not isinstance(opening_hours, str) or not opening_hours.strip():\n",
        "        return [None, None, None, None, None, None]  # Handles None, NaN, or empty string\n",
        "\n",
        "    try:\n",
        "        hours_dict = ast.literal_eval(opening_hours)\n",
        "        if not isinstance(hours_dict, dict):\n",
        "            return [0, 0, 0, 0, 0, 0]\n",
        "\n",
        "        total_days_open = 0\n",
        "        total_hours = 0\n",
        "        morning, noon, evening, night = 0, 0, 0, 0\n",
        "\n",
        "        for day, periods in hours_dict.items():\n",
        "            if periods:\n",
        "                total_days_open += 1\n",
        "                daily_hours = 0\n",
        "                full_day_flag = False\n",
        "\n",
        "                for period in periods:\n",
        "                    start, end = period.split('-')\n",
        "                    start_hour, start_minute = map(int, start.split(':'))\n",
        "                    end_hour, end_minute = map(int, end.split(':'))\n",
        "\n",
        "                    # Convert to float hours\n",
        "                    start_time = start_hour + start_minute / 60\n",
        "                    end_time = end_hour + end_minute / 60\n",
        "\n",
        "                    # Handle cases where closing time is past midnight\n",
        "                    if end_time < start_time:\n",
        "                        end_time += 24\n",
        "\n",
        "                    hours_open = end_time - start_time\n",
        "                    daily_hours += hours_open\n",
        "\n",
        "                    # Check time slots\n",
        "                    if start_time < 6:\n",
        "                        night = 1\n",
        "                    if start_time < 12 and end_time > 6:\n",
        "                        morning = 1\n",
        "                    if start_time < 18 and end_time > 12:\n",
        "                        noon = 1\n",
        "                    if start_time < 24 and end_time > 18:\n",
        "                        evening = 1\n",
        "                    if hours_open >= 12:\n",
        "                        full_day_flag = True\n",
        "\n",
        "                total_hours += daily_hours\n",
        "\n",
        "        avg_hours_per_day = total_hours / total_days_open if total_days_open else 0\n",
        "        return [total_days_open, round(avg_hours_per_day, 1), morning, noon, evening, night]\n",
        "\n",
        "\n",
        "    except (SyntaxError, ValueError, AttributeError, TypeError):\n",
        "        return [0, 0, 0, 0, 0, 0]  # Safe fallback if parsing fails\n",
        "\n",
        "# Apply function safely\n",
        "df2[['open_days', 'avg_hours_per_day', 'morning', 'noon', 'evening', 'night']] = df2['original_open_hours'].apply(process_opening_hours).apply(pd.Series)\n",
        "\n",
        "# Drop the original column\n",
        "#df.drop(columns=['opening_hours'], inplace=True)\n",
        "\n",
        "\n"
      ],
      "metadata": {
        "id": "zP5cBQTBWMWN"
      },
      "execution_count": 32,
      "outputs": []
    },
    {
      "cell_type": "code",
      "execution_count": 33,
      "metadata": {
        "id": "HSG2vytDi2IS"
      },
      "outputs": [],
      "source": [
        "import statistics\n",
        "def extract_prices(price_range):\n",
        "    if pd.isna(price_range):\n",
        "        return np.nan, np.nan  # Keep NaN for missing values\n",
        "    else:\n",
        "      prices = price_range.replace(\"€\", \"\").replace(\",\", \"\").split(\"-\")  # Remove € and split\n",
        "    return [int(prices[0]), int(prices[1])]  # Convert to integers\n",
        "\n",
        "# Apply function and create new columns\n",
        "df2[\"min_price\"] =[extract_prices(cell)[0] for cell in df2[\"price_range\"]]\n",
        "df2[\"max_price\"] =[extract_prices(cell)[1] for cell in df2[\"price_range\"]]"
      ]
    },
    {
      "cell_type": "code",
      "source": [
        "df2.info()"
      ],
      "metadata": {
        "colab": {
          "base_uri": "https://localhost:8080/"
        },
        "id": "l1Rz9IE9SjOI",
        "outputId": "5cd1eb94-f994-4e10-e8df-2d96965b1f81"
      },
      "execution_count": 34,
      "outputs": [
        {
          "output_type": "stream",
          "name": "stdout",
          "text": [
            "<class 'pandas.core.frame.DataFrame'>\n",
            "Index: 21990 entries, 952974 to 986735\n",
            "Data columns (total 53 columns):\n",
            " #   Column                             Non-Null Count  Dtype  \n",
            "---  ------                             --------------  -----  \n",
            " 0   restaurant_link                    21990 non-null  object \n",
            " 1   restaurant_name                    21990 non-null  object \n",
            " 2   original_location                  21990 non-null  object \n",
            " 3   country                            21990 non-null  object \n",
            " 4   region                             21990 non-null  object \n",
            " 5   province                           18520 non-null  object \n",
            " 6   city                               21987 non-null  object \n",
            " 7   address                            21990 non-null  object \n",
            " 8   latitude                           21340 non-null  float64\n",
            " 9   longitude                          21340 non-null  float64\n",
            " 10  claimed                            21983 non-null  float64\n",
            " 11  awards                             10731 non-null  object \n",
            " 12  popularity_detailed                21986 non-null  float64\n",
            " 13  popularity_generic                 21973 non-null  float64\n",
            " 14  top_tags                           21839 non-null  object \n",
            " 15  price_level                        21127 non-null  float64\n",
            " 16  price_range                        8034 non-null   object \n",
            " 17  meals                              14285 non-null  object \n",
            " 18  cuisines                           20628 non-null  object \n",
            " 19  special_diets                      11564 non-null  object \n",
            " 20  features                           7367 non-null   object \n",
            " 21  vegetarian_friendly                21990 non-null  object \n",
            " 22  vegan_options                      21990 non-null  object \n",
            " 23  gluten_free                        21990 non-null  object \n",
            " 24  original_open_hours                12200 non-null  object \n",
            " 25  open_days_per_week                 12200 non-null  float64\n",
            " 26  open_hours_per_week                12200 non-null  float64\n",
            " 27  working_shifts_per_week            12200 non-null  float64\n",
            " 28  avg_rating                         21990 non-null  float64\n",
            " 29  total_reviews_count                21990 non-null  float64\n",
            " 30  default_language                   21990 non-null  float64\n",
            " 31  reviews_count_in_default_language  21990 non-null  float64\n",
            " 32  excellent                          21990 non-null  float64\n",
            " 33  very_good                          21990 non-null  float64\n",
            " 34  average                            21990 non-null  float64\n",
            " 35  poor                               21990 non-null  float64\n",
            " 36  terrible                           21990 non-null  float64\n",
            " 37  food                               18256 non-null  float64\n",
            " 38  service                            18508 non-null  float64\n",
            " 39  value                              18439 non-null  float64\n",
            " 40  atmosphere                         7189 non-null   float64\n",
            " 41  keywords                           5511 non-null   object \n",
            " 42  success (target)                   21990 non-null  int64  \n",
            " 43  restaurants                        21986 non-null  float64\n",
            " 44  places                             21973 non-null  float64\n",
            " 45  open_days                          12200 non-null  float64\n",
            " 46  avg_hours_per_day                  12200 non-null  float64\n",
            " 47  morning                            12200 non-null  float64\n",
            " 48  noon                               12200 non-null  float64\n",
            " 49  evening                            12200 non-null  float64\n",
            " 50  night                              12200 non-null  float64\n",
            " 51  min_price                          8034 non-null   float64\n",
            " 52  max_price                          8034 non-null   float64\n",
            "dtypes: float64(32), int64(1), object(20)\n",
            "memory usage: 9.1+ MB\n"
          ]
        }
      ]
    },
    {
      "cell_type": "code",
      "source": [
        "import re\n",
        "\n",
        "df2['awards'].fillna(' ', inplace=True)  # Replace NaN\n",
        "\n",
        "# Apply function and expand into new columns\n",
        "df2['excellence'] = [len(re.findall(r\"excellence\", cell, re.IGNORECASE)) for cell in df2['awards']]\n",
        "df2['michelin'] = [len(re.findall(r\"michelin\", cell, re.IGNORECASE)) for cell in df2['awards']]\n",
        "df2['another'] = [len(re.findall(r\"worth\", cell, re.IGNORECASE)) + len(re.findall(r\"good\", cell, re.IGNORECASE)) for cell in df2['awards']]"
      ],
      "metadata": {
        "id": "dYlvScToXPu5",
        "colab": {
          "base_uri": "https://localhost:8080/"
        },
        "outputId": "5de8d6a2-6261-4d08-a7d7-632c61110063"
      },
      "execution_count": 35,
      "outputs": [
        {
          "output_type": "stream",
          "name": "stderr",
          "text": [
            "<ipython-input-35-6a08d63cc9ef>:3: FutureWarning: A value is trying to be set on a copy of a DataFrame or Series through chained assignment using an inplace method.\n",
            "The behavior will change in pandas 3.0. This inplace method will never work because the intermediate object on which we are setting values always behaves as a copy.\n",
            "\n",
            "For example, when doing 'df[col].method(value, inplace=True)', try using 'df.method({col: value}, inplace=True)' or df[col] = df[col].method(value) instead, to perform the operation inplace on the original object.\n",
            "\n",
            "\n",
            "  df2['awards'].fillna(' ', inplace=True)  # Replace NaN\n"
          ]
        }
      ]
    },
    {
      "cell_type": "code",
      "execution_count": 36,
      "metadata": {
        "id": "SunzbnuKssNd",
        "colab": {
          "base_uri": "https://localhost:8080/",
          "height": 0
        },
        "outputId": "ec808ab9-e43d-49f0-ecae-0670b5ec72b2"
      },
      "outputs": [
        {
          "output_type": "execute_result",
          "data": {
            "text/plain": [
              "       Apartment Number                           Street Name  \\\n",
              "952974               13                                sekeri   \n",
              "952975               14                              atkis st   \n",
              "952976               59                                sekeri   \n",
              "952977                8                                 aktis   \n",
              "952978               28                                sekeri   \n",
              "...                 ...                                   ...   \n",
              "986731                                                 fodele   \n",
              "986732                                               kalamaki   \n",
              "986733                5        th km chania-kissamos old road   \n",
              "986734                    peo kissamou chanion kalamaki beach   \n",
              "986735              142  palaia ethniki odos kissamou chanion   \n",
              "\n",
              "                              City_2 Zip Code  \n",
              "952974                         tolon    21056  \n",
              "952975                         tolon    21056  \n",
              "952976                         tolon    21056  \n",
              "952977                         tolon    21056  \n",
              "952978                         tolon    21056  \n",
              "...                              ...      ...  \n",
              "986731                         crete    71500  \n",
              "986732            chania town, crete    73100  \n",
              "986733  kalamaki, chania town, crete    73500  \n",
              "986734  kalamaki, chania town, crete    73100  \n",
              "986735  kalamaki, chania town, crete    73100  \n",
              "\n",
              "[21990 rows x 4 columns]"
            ],
            "text/html": [
              "\n",
              "  <div id=\"df-e6c143d7-4e3a-4dee-a543-e64cfc2e5b2f\" class=\"colab-df-container\">\n",
              "    <div>\n",
              "<style scoped>\n",
              "    .dataframe tbody tr th:only-of-type {\n",
              "        vertical-align: middle;\n",
              "    }\n",
              "\n",
              "    .dataframe tbody tr th {\n",
              "        vertical-align: top;\n",
              "    }\n",
              "\n",
              "    .dataframe thead th {\n",
              "        text-align: right;\n",
              "    }\n",
              "</style>\n",
              "<table border=\"1\" class=\"dataframe\">\n",
              "  <thead>\n",
              "    <tr style=\"text-align: right;\">\n",
              "      <th></th>\n",
              "      <th>Apartment Number</th>\n",
              "      <th>Street Name</th>\n",
              "      <th>City_2</th>\n",
              "      <th>Zip Code</th>\n",
              "    </tr>\n",
              "  </thead>\n",
              "  <tbody>\n",
              "    <tr>\n",
              "      <th>952974</th>\n",
              "      <td>13</td>\n",
              "      <td>sekeri</td>\n",
              "      <td>tolon</td>\n",
              "      <td>21056</td>\n",
              "    </tr>\n",
              "    <tr>\n",
              "      <th>952975</th>\n",
              "      <td>14</td>\n",
              "      <td>atkis st</td>\n",
              "      <td>tolon</td>\n",
              "      <td>21056</td>\n",
              "    </tr>\n",
              "    <tr>\n",
              "      <th>952976</th>\n",
              "      <td>59</td>\n",
              "      <td>sekeri</td>\n",
              "      <td>tolon</td>\n",
              "      <td>21056</td>\n",
              "    </tr>\n",
              "    <tr>\n",
              "      <th>952977</th>\n",
              "      <td>8</td>\n",
              "      <td>aktis</td>\n",
              "      <td>tolon</td>\n",
              "      <td>21056</td>\n",
              "    </tr>\n",
              "    <tr>\n",
              "      <th>952978</th>\n",
              "      <td>28</td>\n",
              "      <td>sekeri</td>\n",
              "      <td>tolon</td>\n",
              "      <td>21056</td>\n",
              "    </tr>\n",
              "    <tr>\n",
              "      <th>...</th>\n",
              "      <td>...</td>\n",
              "      <td>...</td>\n",
              "      <td>...</td>\n",
              "      <td>...</td>\n",
              "    </tr>\n",
              "    <tr>\n",
              "      <th>986731</th>\n",
              "      <td></td>\n",
              "      <td>fodele</td>\n",
              "      <td>crete</td>\n",
              "      <td>71500</td>\n",
              "    </tr>\n",
              "    <tr>\n",
              "      <th>986732</th>\n",
              "      <td></td>\n",
              "      <td>kalamaki</td>\n",
              "      <td>chania town, crete</td>\n",
              "      <td>73100</td>\n",
              "    </tr>\n",
              "    <tr>\n",
              "      <th>986733</th>\n",
              "      <td>5</td>\n",
              "      <td>th km chania-kissamos old road</td>\n",
              "      <td>kalamaki, chania town, crete</td>\n",
              "      <td>73500</td>\n",
              "    </tr>\n",
              "    <tr>\n",
              "      <th>986734</th>\n",
              "      <td></td>\n",
              "      <td>peo kissamou chanion kalamaki beach</td>\n",
              "      <td>kalamaki, chania town, crete</td>\n",
              "      <td>73100</td>\n",
              "    </tr>\n",
              "    <tr>\n",
              "      <th>986735</th>\n",
              "      <td>142</td>\n",
              "      <td>palaia ethniki odos kissamou chanion</td>\n",
              "      <td>kalamaki, chania town, crete</td>\n",
              "      <td>73100</td>\n",
              "    </tr>\n",
              "  </tbody>\n",
              "</table>\n",
              "<p>21990 rows × 4 columns</p>\n",
              "</div>\n",
              "    <div class=\"colab-df-buttons\">\n",
              "\n",
              "  <div class=\"colab-df-container\">\n",
              "    <button class=\"colab-df-convert\" onclick=\"convertToInteractive('df-e6c143d7-4e3a-4dee-a543-e64cfc2e5b2f')\"\n",
              "            title=\"Convert this dataframe to an interactive table.\"\n",
              "            style=\"display:none;\">\n",
              "\n",
              "  <svg xmlns=\"http://www.w3.org/2000/svg\" height=\"24px\" viewBox=\"0 -960 960 960\">\n",
              "    <path d=\"M120-120v-720h720v720H120Zm60-500h600v-160H180v160Zm220 220h160v-160H400v160Zm0 220h160v-160H400v160ZM180-400h160v-160H180v160Zm440 0h160v-160H620v160ZM180-180h160v-160H180v160Zm440 0h160v-160H620v160Z\"/>\n",
              "  </svg>\n",
              "    </button>\n",
              "\n",
              "  <style>\n",
              "    .colab-df-container {\n",
              "      display:flex;\n",
              "      gap: 12px;\n",
              "    }\n",
              "\n",
              "    .colab-df-convert {\n",
              "      background-color: #E8F0FE;\n",
              "      border: none;\n",
              "      border-radius: 50%;\n",
              "      cursor: pointer;\n",
              "      display: none;\n",
              "      fill: #1967D2;\n",
              "      height: 32px;\n",
              "      padding: 0 0 0 0;\n",
              "      width: 32px;\n",
              "    }\n",
              "\n",
              "    .colab-df-convert:hover {\n",
              "      background-color: #E2EBFA;\n",
              "      box-shadow: 0px 1px 2px rgba(60, 64, 67, 0.3), 0px 1px 3px 1px rgba(60, 64, 67, 0.15);\n",
              "      fill: #174EA6;\n",
              "    }\n",
              "\n",
              "    .colab-df-buttons div {\n",
              "      margin-bottom: 4px;\n",
              "    }\n",
              "\n",
              "    [theme=dark] .colab-df-convert {\n",
              "      background-color: #3B4455;\n",
              "      fill: #D2E3FC;\n",
              "    }\n",
              "\n",
              "    [theme=dark] .colab-df-convert:hover {\n",
              "      background-color: #434B5C;\n",
              "      box-shadow: 0px 1px 3px 1px rgba(0, 0, 0, 0.15);\n",
              "      filter: drop-shadow(0px 1px 2px rgba(0, 0, 0, 0.3));\n",
              "      fill: #FFFFFF;\n",
              "    }\n",
              "  </style>\n",
              "\n",
              "    <script>\n",
              "      const buttonEl =\n",
              "        document.querySelector('#df-e6c143d7-4e3a-4dee-a543-e64cfc2e5b2f button.colab-df-convert');\n",
              "      buttonEl.style.display =\n",
              "        google.colab.kernel.accessAllowed ? 'block' : 'none';\n",
              "\n",
              "      async function convertToInteractive(key) {\n",
              "        const element = document.querySelector('#df-e6c143d7-4e3a-4dee-a543-e64cfc2e5b2f');\n",
              "        const dataTable =\n",
              "          await google.colab.kernel.invokeFunction('convertToInteractive',\n",
              "                                                    [key], {});\n",
              "        if (!dataTable) return;\n",
              "\n",
              "        const docLinkHtml = 'Like what you see? Visit the ' +\n",
              "          '<a target=\"_blank\" href=https://colab.research.google.com/notebooks/data_table.ipynb>data table notebook</a>'\n",
              "          + ' to learn more about interactive tables.';\n",
              "        element.innerHTML = '';\n",
              "        dataTable['output_type'] = 'display_data';\n",
              "        await google.colab.output.renderOutput(dataTable, element);\n",
              "        const docLink = document.createElement('div');\n",
              "        docLink.innerHTML = docLinkHtml;\n",
              "        element.appendChild(docLink);\n",
              "      }\n",
              "    </script>\n",
              "  </div>\n",
              "\n",
              "\n",
              "<div id=\"df-c52ec330-a685-4f0e-bffc-92fe56ad6413\">\n",
              "  <button class=\"colab-df-quickchart\" onclick=\"quickchart('df-c52ec330-a685-4f0e-bffc-92fe56ad6413')\"\n",
              "            title=\"Suggest charts\"\n",
              "            style=\"display:none;\">\n",
              "\n",
              "<svg xmlns=\"http://www.w3.org/2000/svg\" height=\"24px\"viewBox=\"0 0 24 24\"\n",
              "     width=\"24px\">\n",
              "    <g>\n",
              "        <path d=\"M19 3H5c-1.1 0-2 .9-2 2v14c0 1.1.9 2 2 2h14c1.1 0 2-.9 2-2V5c0-1.1-.9-2-2-2zM9 17H7v-7h2v7zm4 0h-2V7h2v10zm4 0h-2v-4h2v4z\"/>\n",
              "    </g>\n",
              "</svg>\n",
              "  </button>\n",
              "\n",
              "<style>\n",
              "  .colab-df-quickchart {\n",
              "      --bg-color: #E8F0FE;\n",
              "      --fill-color: #1967D2;\n",
              "      --hover-bg-color: #E2EBFA;\n",
              "      --hover-fill-color: #174EA6;\n",
              "      --disabled-fill-color: #AAA;\n",
              "      --disabled-bg-color: #DDD;\n",
              "  }\n",
              "\n",
              "  [theme=dark] .colab-df-quickchart {\n",
              "      --bg-color: #3B4455;\n",
              "      --fill-color: #D2E3FC;\n",
              "      --hover-bg-color: #434B5C;\n",
              "      --hover-fill-color: #FFFFFF;\n",
              "      --disabled-bg-color: #3B4455;\n",
              "      --disabled-fill-color: #666;\n",
              "  }\n",
              "\n",
              "  .colab-df-quickchart {\n",
              "    background-color: var(--bg-color);\n",
              "    border: none;\n",
              "    border-radius: 50%;\n",
              "    cursor: pointer;\n",
              "    display: none;\n",
              "    fill: var(--fill-color);\n",
              "    height: 32px;\n",
              "    padding: 0;\n",
              "    width: 32px;\n",
              "  }\n",
              "\n",
              "  .colab-df-quickchart:hover {\n",
              "    background-color: var(--hover-bg-color);\n",
              "    box-shadow: 0 1px 2px rgba(60, 64, 67, 0.3), 0 1px 3px 1px rgba(60, 64, 67, 0.15);\n",
              "    fill: var(--button-hover-fill-color);\n",
              "  }\n",
              "\n",
              "  .colab-df-quickchart-complete:disabled,\n",
              "  .colab-df-quickchart-complete:disabled:hover {\n",
              "    background-color: var(--disabled-bg-color);\n",
              "    fill: var(--disabled-fill-color);\n",
              "    box-shadow: none;\n",
              "  }\n",
              "\n",
              "  .colab-df-spinner {\n",
              "    border: 2px solid var(--fill-color);\n",
              "    border-color: transparent;\n",
              "    border-bottom-color: var(--fill-color);\n",
              "    animation:\n",
              "      spin 1s steps(1) infinite;\n",
              "  }\n",
              "\n",
              "  @keyframes spin {\n",
              "    0% {\n",
              "      border-color: transparent;\n",
              "      border-bottom-color: var(--fill-color);\n",
              "      border-left-color: var(--fill-color);\n",
              "    }\n",
              "    20% {\n",
              "      border-color: transparent;\n",
              "      border-left-color: var(--fill-color);\n",
              "      border-top-color: var(--fill-color);\n",
              "    }\n",
              "    30% {\n",
              "      border-color: transparent;\n",
              "      border-left-color: var(--fill-color);\n",
              "      border-top-color: var(--fill-color);\n",
              "      border-right-color: var(--fill-color);\n",
              "    }\n",
              "    40% {\n",
              "      border-color: transparent;\n",
              "      border-right-color: var(--fill-color);\n",
              "      border-top-color: var(--fill-color);\n",
              "    }\n",
              "    60% {\n",
              "      border-color: transparent;\n",
              "      border-right-color: var(--fill-color);\n",
              "    }\n",
              "    80% {\n",
              "      border-color: transparent;\n",
              "      border-right-color: var(--fill-color);\n",
              "      border-bottom-color: var(--fill-color);\n",
              "    }\n",
              "    90% {\n",
              "      border-color: transparent;\n",
              "      border-bottom-color: var(--fill-color);\n",
              "    }\n",
              "  }\n",
              "</style>\n",
              "\n",
              "  <script>\n",
              "    async function quickchart(key) {\n",
              "      const quickchartButtonEl =\n",
              "        document.querySelector('#' + key + ' button');\n",
              "      quickchartButtonEl.disabled = true;  // To prevent multiple clicks.\n",
              "      quickchartButtonEl.classList.add('colab-df-spinner');\n",
              "      try {\n",
              "        const charts = await google.colab.kernel.invokeFunction(\n",
              "            'suggestCharts', [key], {});\n",
              "      } catch (error) {\n",
              "        console.error('Error during call to suggestCharts:', error);\n",
              "      }\n",
              "      quickchartButtonEl.classList.remove('colab-df-spinner');\n",
              "      quickchartButtonEl.classList.add('colab-df-quickchart-complete');\n",
              "    }\n",
              "    (() => {\n",
              "      let quickchartButtonEl =\n",
              "        document.querySelector('#df-c52ec330-a685-4f0e-bffc-92fe56ad6413 button');\n",
              "      quickchartButtonEl.style.display =\n",
              "        google.colab.kernel.accessAllowed ? 'block' : 'none';\n",
              "    })();\n",
              "  </script>\n",
              "</div>\n",
              "\n",
              "    </div>\n",
              "  </div>\n"
            ],
            "application/vnd.google.colaboratory.intrinsic+json": {
              "type": "dataframe",
              "summary": "{\n  \"name\": \"df2[['Apartment Number', 'Street Name', 'City_2', 'Zip Code']]\",\n  \"rows\": 21990,\n  \"fields\": [\n    {\n      \"column\": \"Apartment Number\",\n      \"properties\": {\n        \"dtype\": \"category\",\n        \"num_unique_values\": 1188,\n        \"samples\": [\n          \"615\",\n          \"60063\",\n          \"159159\"\n        ],\n        \"semantic_type\": \"\",\n        \"description\": \"\"\n      }\n    },\n    {\n      \"column\": \"Street Name\",\n      \"properties\": {\n        \"dtype\": \"string\",\n        \"num_unique_values\": 13149,\n        \"samples\": [\n          \"aristofanous\",\n          \"voudouri  kriezotou\",\n          \"vitonos\"\n        ],\n        \"semantic_type\": \"\",\n        \"description\": \"\"\n      }\n    },\n    {\n      \"column\": \"City_2\",\n      \"properties\": {\n        \"dtype\": \"category\",\n        \"num_unique_values\": 2125,\n        \"samples\": [\n          \"apollonii\",\n          \"aggitis\",\n          \"fishing harbour, preveza\"\n        ],\n        \"semantic_type\": \"\",\n        \"description\": \"\"\n      }\n    },\n    {\n      \"column\": \"Zip Code\",\n      \"properties\": {\n        \"dtype\": \"category\",\n        \"num_unique_values\": 1183,\n        \"samples\": [\n          \"26221\",\n          \"40010\",\n          \"90\"\n        ],\n        \"semantic_type\": \"\",\n        \"description\": \"\"\n      }\n    }\n  ]\n}"
            }
          },
          "metadata": {},
          "execution_count": 36
        }
      ],
      "source": [
        "# Function to clean and split addresses\n",
        "def clean_and_split_address(address):\n",
        "    address = address.lower().replace(\"greece\", \"\").strip()  # Remove \"Greece\"\n",
        "\n",
        "    # Ensure we have at least a street and city/zip\n",
        "    parts = address.split(\",\", 1) if \",\" in address else [address, \"\"]\n",
        "\n",
        "    street_info = parts[0].strip()  # Street + number\n",
        "    city_zip = parts[1].strip() if len(parts) > 1 else \"\"  # City + ZIP if available\n",
        "\n",
        "    # Extract ZIP code and city\n",
        "    zip_code = []\n",
        "    city = []\n",
        "    for char in city_zip:\n",
        "        if char.isdigit():\n",
        "            zip_code.append(char)\n",
        "        else:\n",
        "            city.append(char)\n",
        "\n",
        "    city = \"\".join(city).strip()\n",
        "    zip_code = \"\".join(zip_code)\n",
        "\n",
        "    # Extract Apartment Number and Street Name\n",
        "    apartment_number = []\n",
        "    street_name = []\n",
        "    for char in street_info:\n",
        "        if char.isdigit():\n",
        "            apartment_number.append(char)\n",
        "        else:\n",
        "            street_name.append(char)\n",
        "\n",
        "    street_name = \"\".join(street_name).strip()\n",
        "    apartment_number = \"\".join(apartment_number)\n",
        "\n",
        "    return pd.Series([apartment_number, street_name, city, zip_code])\n",
        "\n",
        "# Apply function to DataFrame\n",
        "df2[['Apartment Number', 'Street Name', 'City_2', 'Zip Code']] = df2['address'].apply(clean_and_split_address)\n",
        "\n",
        "\n",
        "# Display results\n",
        "df2[['Apartment Number', 'Street Name', 'City_2', 'Zip Code']]\n"
      ]
    },
    {
      "cell_type": "code",
      "execution_count": 37,
      "metadata": {
        "id": "iqM7M5HO3zC9"
      },
      "outputs": [],
      "source": [
        "import pandas as pd\n",
        "from collections import Counter\n",
        "\n",
        "\n",
        "# Function to split awards and count them\n",
        "def count_awards(awards_column):\n",
        "    # Split each entry in the column by commas and flatten the result\n",
        "    all_awards = [award.strip() for entry in awards_column if type(entry) == str for award in entry.split(',')]\n",
        "\n",
        "    # Use Counter to count occurrences of each award\n",
        "    award_count = Counter(all_awards)\n",
        "\n",
        "    return award_count\n"
      ]
    },
    {
      "cell_type": "code",
      "execution_count": 38,
      "metadata": {
        "id": "LczJzxw0HZHg"
      },
      "outputs": [],
      "source": [
        "def extract_city(address):\n",
        "    if isinstance(address, str):  # Check if the value is a string\n",
        "        parts = address.split(\",\", 1)  # Split at the first comma\n",
        "        return parts[0].strip()  # Return the part before the comma\n",
        "    return \"\"  # Return an empty string if the address is not a string\n",
        "\n",
        "# Fill NaN values in 'city' column with values from 'new city' column\n",
        "df2['city'] = df2['city'].fillna(df2['City_2'].apply(extract_city))"
      ]
    },
    {
      "cell_type": "code",
      "source": [
        "df2['to_new_data'] = df2['top_tags'] + ',' +df2['meals']+ ',' + df2['cuisines'] + ',' + df2['special_diets']+ ',' + df2['features']+ ','+ df2['keywords']\n",
        "\n",
        "import pandas as pd\n",
        "from collections import Counter\n",
        "\n",
        "\n",
        "# Function to split awards and count them\n",
        "def count_awards(awards_column):\n",
        "    # Split each entry in the column by commas and flatten the result\n",
        "    all_awards = [award.strip() for entry in awards_column if type(entry) == str for award in entry.split(',')]\n",
        "\n",
        "    # Use Counter to count occurrences of each award\n",
        "    award_count = Counter(all_awards)\n",
        "\n",
        "    return award_count\n",
        "\n",
        "# Apply the function\n",
        "top_counts = count_awards(df2['to_new_data'])\n"
      ],
      "metadata": {
        "id": "CoJ7TTMuA9OG"
      },
      "execution_count": 39,
      "outputs": []
    },
    {
      "cell_type": "code",
      "source": [
        "categories = {\n",
        "    \"seafood\": [\"sea\", \"fish\", \"sushi\", \"tuna\"],\n",
        "    \"healthy\": [\"vegetarian\", \"gluten\", \"salad\", \"vegan\", \"organic\", \"fruit\"],\n",
        "    \"fast_food\": [\"fast food\", \"burgers\", \"fries\", \"pizza\"],\n",
        "    \"payment_cards\": [\"cards\", \"visa\", \"mastercard\", \"accepts\", \"accept\", 'gift cards available', 'digital payments' ],\n",
        "    \"greek\": [\"greek\"],\n",
        "    \"asian\": ['asian','thai','vietnamese'],\n",
        "    \"parking\": [\"parking\"],\n",
        "    \"mediterranean\": [\"mediterranean\", \"italy\"],\n",
        "    \"seating\": ['seating', 'highchairs available' 'table'],\n",
        "   \"drinks\": ['alcohol' 'drinks', 'wine and beer', 'wine','bar', 'cocktail'],\n",
        "    \"accessible\": [\"wheelchair\", \"accessible\"]\n",
        "}\n",
        "\n",
        "# Function to check if any keyword is present\n",
        "def contains_keywords(text, keywords):\n",
        "    if pd.isna(text):  # Handle NULL values\n",
        "        return 0\n",
        "    text = text.lower()\n",
        "    return int(any(keyword in text for keyword in keywords))\n",
        "\n",
        "# Create binary columns\n",
        "for category, keywords in categories.items():\n",
        "    df2[category] = df2[\"to_new_data\"].apply(lambda x: contains_keywords(x, keywords))\n"
      ],
      "metadata": {
        "id": "Dq7lxaV1Rjmv"
      },
      "execution_count": 40,
      "outputs": []
    },
    {
      "cell_type": "code",
      "execution_count": 41,
      "metadata": {
        "id": "CpdInM0c0E2s"
      },
      "outputs": [],
      "source": [
        "#to drop\n",
        "droping = ['restaurant_link', 'original_location','country', 'restaurant_link', 'awards', 'vegetarian_friendly', 'vegan_options', 'gluten_free', 'top_tags', 'meals'\n",
        ", 'cuisines', 'special_diets', 'features', 'keywords', 'price_range', 'address', 'City_2', 'to_new_data', 'avg_rating'\n",
        " ,'open_days_per_week', 'original_open_hours', 'restaurant_name', 'excellent', 'very_good', 'average', 'poor','terrible', ]\n",
        "df2 = df2.drop(columns=droping, axis=1)"
      ]
    },
    {
      "cell_type": "code",
      "source": [
        "df2.info()"
      ],
      "metadata": {
        "colab": {
          "base_uri": "https://localhost:8080/"
        },
        "id": "CF9CL9NJt4zu",
        "outputId": "de39ec94-8aca-414a-fe8a-60bd4bea5901"
      },
      "execution_count": 42,
      "outputs": [
        {
          "output_type": "stream",
          "name": "stdout",
          "text": [
            "<class 'pandas.core.frame.DataFrame'>\n",
            "Index: 21990 entries, 952974 to 986735\n",
            "Data columns (total 46 columns):\n",
            " #   Column                             Non-Null Count  Dtype  \n",
            "---  ------                             --------------  -----  \n",
            " 0   region                             21990 non-null  object \n",
            " 1   province                           18520 non-null  object \n",
            " 2   city                               21990 non-null  object \n",
            " 3   latitude                           21340 non-null  float64\n",
            " 4   longitude                          21340 non-null  float64\n",
            " 5   claimed                            21983 non-null  float64\n",
            " 6   popularity_detailed                21986 non-null  float64\n",
            " 7   popularity_generic                 21973 non-null  float64\n",
            " 8   price_level                        21127 non-null  float64\n",
            " 9   open_hours_per_week                12200 non-null  float64\n",
            " 10  working_shifts_per_week            12200 non-null  float64\n",
            " 11  total_reviews_count                21990 non-null  float64\n",
            " 12  default_language                   21990 non-null  float64\n",
            " 13  reviews_count_in_default_language  21990 non-null  float64\n",
            " 14  food                               18256 non-null  float64\n",
            " 15  service                            18508 non-null  float64\n",
            " 16  value                              18439 non-null  float64\n",
            " 17  atmosphere                         7189 non-null   float64\n",
            " 18  success (target)                   21990 non-null  int64  \n",
            " 19  restaurants                        21986 non-null  float64\n",
            " 20  places                             21973 non-null  float64\n",
            " 21  open_days                          12200 non-null  float64\n",
            " 22  avg_hours_per_day                  12200 non-null  float64\n",
            " 23  morning                            12200 non-null  float64\n",
            " 24  noon                               12200 non-null  float64\n",
            " 25  evening                            12200 non-null  float64\n",
            " 26  night                              12200 non-null  float64\n",
            " 27  min_price                          8034 non-null   float64\n",
            " 28  max_price                          8034 non-null   float64\n",
            " 29  excellence                         21990 non-null  int64  \n",
            " 30  michelin                           21990 non-null  int64  \n",
            " 31  another                            21990 non-null  int64  \n",
            " 32  Apartment Number                   21990 non-null  object \n",
            " 33  Street Name                        21990 non-null  object \n",
            " 34  Zip Code                           21990 non-null  object \n",
            " 35  seafood                            21990 non-null  int64  \n",
            " 36  healthy                            21990 non-null  int64  \n",
            " 37  fast_food                          21990 non-null  int64  \n",
            " 38  payment_cards                      21990 non-null  int64  \n",
            " 39  greek                              21990 non-null  int64  \n",
            " 40  asian                              21990 non-null  int64  \n",
            " 41  parking                            21990 non-null  int64  \n",
            " 42  mediterranean                      21990 non-null  int64  \n",
            " 43  seating                            21990 non-null  int64  \n",
            " 44  drinks                             21990 non-null  int64  \n",
            " 45  accessible                         21990 non-null  int64  \n",
            "dtypes: float64(25), int64(15), object(6)\n",
            "memory usage: 7.9+ MB\n"
          ]
        }
      ]
    },
    {
      "cell_type": "code",
      "source": [
        "for col in df2.select_dtypes(include=['object']).columns:\n",
        "    df2[col] = df2[col].astype('category')\n",
        "\n",
        "# Convert categories to numeric codes for analysis\n",
        "for col in df2.select_dtypes(include=['category']).columns:\n",
        "    df2[col] = df2[col].cat.codes"
      ],
      "metadata": {
        "id": "W6nlYGLavRUi"
      },
      "execution_count": 43,
      "outputs": []
    },
    {
      "cell_type": "code",
      "source": [
        "df2.to_csv(\"/content/drive/MyDrive/Trip Advisor EU restaurants /tripadvisor_european_restaurants_1.csv\")"
      ],
      "metadata": {
        "id": "lXK-ubzUwAlA"
      },
      "execution_count": 44,
      "outputs": []
    },
    {
      "cell_type": "markdown",
      "source": [
        "##fill_null"
      ],
      "metadata": {
        "id": "IWI1lZRYSW44"
      }
    },
    {
      "cell_type": "code",
      "source": [
        "import pandas as pd\n",
        "import numpy as np\n",
        "import pandas as pd\n",
        "import numpy as np\n",
        "import seaborn as sns\n",
        "import matplotlib.pyplot as plt\n",
        "from scipy.stats import zscore, ks_2samp\n",
        "from sklearn.preprocessing import LabelEncoder\n",
        "\n",
        "df3 = pd.read_csv(r'/content/drive/MyDrive/Trip Advisor EU restaurants /tripadvisor_european_restaurants_1.csv')"
      ],
      "metadata": {
        "id": "ekwd7p_DVo1n"
      },
      "execution_count": 62,
      "outputs": []
    },
    {
      "cell_type": "code",
      "source": [
        "df3.info()"
      ],
      "metadata": {
        "colab": {
          "base_uri": "https://localhost:8080/"
        },
        "id": "bq2oM8wGWODT",
        "outputId": "f68902cd-318b-4318-b6a0-f25bc970d245"
      },
      "execution_count": 63,
      "outputs": [
        {
          "output_type": "stream",
          "name": "stdout",
          "text": [
            "<class 'pandas.core.frame.DataFrame'>\n",
            "RangeIndex: 21990 entries, 0 to 21989\n",
            "Data columns (total 47 columns):\n",
            " #   Column                             Non-Null Count  Dtype  \n",
            "---  ------                             --------------  -----  \n",
            " 0   Unnamed: 0                         21990 non-null  int64  \n",
            " 1   region                             21990 non-null  int64  \n",
            " 2   province                           21990 non-null  int64  \n",
            " 3   city                               21990 non-null  int64  \n",
            " 4   latitude                           21340 non-null  float64\n",
            " 5   longitude                          21340 non-null  float64\n",
            " 6   claimed                            21983 non-null  float64\n",
            " 7   popularity_detailed                21986 non-null  float64\n",
            " 8   popularity_generic                 21973 non-null  float64\n",
            " 9   price_level                        21127 non-null  float64\n",
            " 10  open_hours_per_week                12200 non-null  float64\n",
            " 11  working_shifts_per_week            12200 non-null  float64\n",
            " 12  total_reviews_count                21990 non-null  float64\n",
            " 13  default_language                   21990 non-null  float64\n",
            " 14  reviews_count_in_default_language  21990 non-null  float64\n",
            " 15  food                               18256 non-null  float64\n",
            " 16  service                            18508 non-null  float64\n",
            " 17  value                              18439 non-null  float64\n",
            " 18  atmosphere                         7189 non-null   float64\n",
            " 19  success (target)                   21990 non-null  int64  \n",
            " 20  restaurants                        21986 non-null  float64\n",
            " 21  places                             21973 non-null  float64\n",
            " 22  open_days                          12200 non-null  float64\n",
            " 23  avg_hours_per_day                  12200 non-null  float64\n",
            " 24  morning                            12200 non-null  float64\n",
            " 25  noon                               12200 non-null  float64\n",
            " 26  evening                            12200 non-null  float64\n",
            " 27  night                              12200 non-null  float64\n",
            " 28  min_price                          8034 non-null   float64\n",
            " 29  max_price                          8034 non-null   float64\n",
            " 30  excellence                         21990 non-null  int64  \n",
            " 31  michelin                           21990 non-null  int64  \n",
            " 32  another                            21990 non-null  int64  \n",
            " 33  Apartment Number                   21990 non-null  int64  \n",
            " 34  Street Name                        21990 non-null  int64  \n",
            " 35  Zip Code                           21990 non-null  int64  \n",
            " 36  seafood                            21990 non-null  int64  \n",
            " 37  healthy                            21990 non-null  int64  \n",
            " 38  fast_food                          21990 non-null  int64  \n",
            " 39  payment_cards                      21990 non-null  int64  \n",
            " 40  greek                              21990 non-null  int64  \n",
            " 41  asian                              21990 non-null  int64  \n",
            " 42  parking                            21990 non-null  int64  \n",
            " 43  mediterranean                      21990 non-null  int64  \n",
            " 44  seating                            21990 non-null  int64  \n",
            " 45  drinks                             21990 non-null  int64  \n",
            " 46  accessible                         21990 non-null  int64  \n",
            "dtypes: float64(25), int64(22)\n",
            "memory usage: 7.9 MB\n"
          ]
        }
      ]
    },
    {
      "cell_type": "code",
      "source": [
        "from sklearn.impute import KNNImputer\n",
        "\n",
        "# Define the imputer (K=5 is usually good)\n",
        "knn_imputer = KNNImputer(n_neighbors=10)\n",
        "\n",
        "# Apply imputation\n",
        "df4 = pd.DataFrame(knn_imputer.fit_transform(df3), columns=df3.columns)\n",
        "\n",
        "# Ensure binary columns remain binary\n",
        "binary_cols = df3.columns[df3.nunique() == 2]\n",
        "df4[binary_cols] = df4[binary_cols].round().astype(int)\n",
        "\n"
      ],
      "metadata": {
        "id": "vkNvOp1qp7xd"
      },
      "execution_count": 64,
      "outputs": []
    },
    {
      "cell_type": "code",
      "source": [
        "# Ensure 1-5 and half will remaine\n",
        "def round_to_half(n):\n",
        "    return round(n * 2) / 2\n",
        "round_cols = ['food', 'service', 'value', 'atmosphere']\n",
        "for col in round_cols:\n",
        "    df4[col] = [round_to_half(i) for i in df4[col]]"
      ],
      "metadata": {
        "id": "daf0ibdyE0wT"
      },
      "execution_count": 65,
      "outputs": []
    },
    {
      "cell_type": "code",
      "source": [
        "# Sample 10,000 random rows\n",
        "#df_sampled = df3.sample(n=15_000, random_state=42)\n",
        "\n",
        "# Define target column name (change this to your actual target column)\n",
        "target_column = \"success (target)\"\n",
        "\n",
        "# Compute correlation of all features with the target\n",
        "correlation_with_target = df3.corr()[target_column].drop(target_column)  # Exclude self-correlation\n",
        "\n",
        "# Sort correlations by absolute value (optional, for better visualization)\n",
        "correlation_with_target = correlation_with_target.abs().sort_values(ascending=False)\n",
        "\n",
        "# Plot the correlations\n",
        "plt.figure(figsize=(10, 10))\n",
        "sns.barplot(x=correlation_with_target.values, y=correlation_with_target.index, palette=\"coolwarm\")\n",
        "plt.xlabel(\"Correlation Coefficient\")\n",
        "plt.ylabel(\"Features\")\n",
        "plt.title(f\"Feature Correlation with {target_column}\")\n",
        "plt.grid(axis=\"x\")\n",
        "\n",
        "# Show the plot\n",
        "plt.show()"
      ],
      "metadata": {
        "colab": {
          "base_uri": "https://localhost:8080/",
          "height": 963
        },
        "id": "pECVxkCye-mV",
        "outputId": "7bf5be56-56ba-481d-feaa-778f213d1e0a"
      },
      "execution_count": 66,
      "outputs": [
        {
          "output_type": "stream",
          "name": "stderr",
          "text": [
            "<ipython-input-66-f4c5ac6168be>:15: FutureWarning: \n",
            "\n",
            "Passing `palette` without assigning `hue` is deprecated and will be removed in v0.14.0. Assign the `y` variable to `hue` and set `legend=False` for the same effect.\n",
            "\n",
            "  sns.barplot(x=correlation_with_target.values, y=correlation_with_target.index, palette=\"coolwarm\")\n"
          ]
        },
        {
          "output_type": "display_data",
          "data": {
            "text/plain": [
              "<Figure size 1000x1000 with 1 Axes>"
            ],
            "image/png": "[encoded data removed]"
          },
          "metadata": {}
        }
      ]
    },
    {
      "cell_type": "code",
      "source": [
        "# Sample 10,000 random rows\n",
        "#df_sampled = df3.sample(n=15_000, random_state=42)\n",
        "\n",
        "# Define target column name (change this to your actual target column)\n",
        "target_column = \"success (target)\"\n",
        "\n",
        "# Compute correlation of all features with the target\n",
        "correlation_with_target = df4.corr()[target_column].drop(target_column)  # Exclude self-correlation\n",
        "\n",
        "# Sort correlations by absolute value (optional, for better visualization)\n",
        "correlation_with_target = correlation_with_target.abs().sort_values(ascending=False)\n",
        "\n",
        "# Plot the correlations\n",
        "plt.figure(figsize=(10, 10))\n",
        "sns.barplot(x=correlation_with_target.values, y=correlation_with_target.index, palette=\"coolwarm\")\n",
        "plt.xlabel(\"Correlation Coefficient\")\n",
        "plt.ylabel(\"Features\")\n",
        "plt.title(f\"Feature Correlation with {target_column} (KNN)\")\n",
        "plt.grid(axis=\"x\")\n",
        "\n",
        "# Show the plot\n",
        "plt.show()"
      ],
      "metadata": {
        "colab": {
          "base_uri": "https://localhost:8080/",
          "height": 963
        },
        "id": "EI4P3ZUC_f2G",
        "outputId": "32c68876-3309-4684-d686-2c921060245b"
      },
      "execution_count": 67,
      "outputs": [
        {
          "output_type": "stream",
          "name": "stderr",
          "text": [
            "<ipython-input-67-33c85131907d>:15: FutureWarning: \n",
            "\n",
            "Passing `palette` without assigning `hue` is deprecated and will be removed in v0.14.0. Assign the `y` variable to `hue` and set `legend=False` for the same effect.\n",
            "\n",
            "  sns.barplot(x=correlation_with_target.values, y=correlation_with_target.index, palette=\"coolwarm\")\n"
          ]
        },
        {
          "output_type": "display_data",
          "data": {
            "text/plain": [
              "<Figure size 1000x1000 with 1 Axes>"
            ],
            "image/png": "[encoded data removed]"
          },
          "metadata": {}
        }
      ]
    },
    {
      "cell_type": "code",
      "source": [
        "def outliers_df(df):\n",
        "    total_outliers = pd.DataFrame(columns={'Outlier count','Percent'})\n",
        "    for col in df:\n",
        "        if col != 'target value':\n",
        "            temp = pd.DataFrame(df[col], columns={col})\n",
        "            Q1 = df[col].quantile(0.25)\n",
        "            Q3 = df[col].quantile(0.75)\n",
        "            upper_limit = Q1 + 1.5 * (Q3-Q1)\n",
        "            lower_limit = Q3 - 1.5 * (Q3-Q1)\n",
        "            upper_outliers = temp[temp[col] > upper_limit]\n",
        "            lower_outliers = temp[temp[col] < lower_limit]\n",
        "            temp = upper_outliers.append(lower_outliers)\n",
        "            b = \"{}\".format(col)\n",
        "            num = len(temp)\n",
        "            total_outliers.loc[b] = [num, num/len(df)*100]\n",
        "    return total_outliers[total_outliers['Percent']>0]\n",
        "\n",
        "outliers_df = outliers_df(df_num_non_dummy).sort_values('Percent', ascending=False)\n",
        "outliers_df"
      ],
      "metadata": {
        "colab": {
          "base_uri": "https://localhost:8080/",
          "height": 201
        },
        "id": "YcLfb1aH15p2",
        "outputId": "accc1b6f-5fcd-49eb-ec69-a54509dedd4c"
      },
      "execution_count": 68,
      "outputs": [
        {
          "output_type": "error",
          "ename": "NameError",
          "evalue": "name 'df_num_non_dummy' is not defined",
          "traceback": [
            "\u001b[0;31m---------------------------------------------------------------------------\u001b[0m",
            "\u001b[0;31mNameError\u001b[0m                                 Traceback (most recent call last)",
            "\u001b[0;32m<ipython-input-68-ca78841a8a70>\u001b[0m in \u001b[0;36m<cell line: 0>\u001b[0;34m()\u001b[0m\n\u001b[1;32m     16\u001b[0m     \u001b[0;32mreturn\u001b[0m \u001b[0mtotal_outliers\u001b[0m\u001b[0;34m[\u001b[0m\u001b[0mtotal_outliers\u001b[0m\u001b[0;34m[\u001b[0m\u001b[0;34m'Percent'\u001b[0m\u001b[0;34m]\u001b[0m\u001b[0;34m>\u001b[0m\u001b[0;36m0\u001b[0m\u001b[0;34m]\u001b[0m\u001b[0;34m\u001b[0m\u001b[0;34m\u001b[0m\u001b[0m\n\u001b[1;32m     17\u001b[0m \u001b[0;34m\u001b[0m\u001b[0m\n\u001b[0;32m---> 18\u001b[0;31m \u001b[0moutliers_df\u001b[0m \u001b[0;34m=\u001b[0m \u001b[0moutliers_df\u001b[0m\u001b[0;34m(\u001b[0m\u001b[0mdf_num_non_dummy\u001b[0m\u001b[0;34m)\u001b[0m\u001b[0;34m.\u001b[0m\u001b[0msort_values\u001b[0m\u001b[0;34m(\u001b[0m\u001b[0;34m'Percent'\u001b[0m\u001b[0;34m,\u001b[0m \u001b[0mascending\u001b[0m\u001b[0;34m=\u001b[0m\u001b[0;32mFalse\u001b[0m\u001b[0;34m)\u001b[0m\u001b[0;34m\u001b[0m\u001b[0;34m\u001b[0m\u001b[0m\n\u001b[0m\u001b[1;32m     19\u001b[0m \u001b[0moutliers_df\u001b[0m\u001b[0;34m\u001b[0m\u001b[0;34m\u001b[0m\u001b[0m\n",
            "\u001b[0;31mNameError\u001b[0m: name 'df_num_non_dummy' is not defined"
          ]
        }
      ]
    },
    {
      "cell_type": "code",
      "source": [
        "from sklearn.experimental import enable_iterative_imputer\n",
        "from sklearn.impute import IterativeImputer"
      ],
      "metadata": {
        "id": "SLCpGV3-J6bb"
      },
      "execution_count": null,
      "outputs": []
    },
    {
      "cell_type": "code",
      "source": [
        "df3['food'].value_counts()"
      ],
      "metadata": {
        "id": "u2xOmk8kCrbp"
      },
      "execution_count": null,
      "outputs": []
    },
    {
      "cell_type": "code",
      "source": [
        "import sklearn.metrics as metrics\n",
        "import math\n",
        "import warnings\n",
        "warnings.filterwarnings(\"ignore\", category=FutureWarning)\n",
        "from sklearn.linear_model import LinearRegression\n",
        "from sklearn.tree import DecisionTreeRegressor\n",
        "from sklearn.ensemble import RandomForestRegressor, AdaBoostRegressor, GradientBoostingRegressor\n",
        "from sklearn.svm import SVR\n",
        "#!pip install xgboost\n",
        "import xgboost"
      ],
      "metadata": {
        "id": "E7U2-iKO7nTv"
      },
      "execution_count": null,
      "outputs": []
    },
    {
      "cell_type": "code",
      "source": [
        "def regressionMetrics(y, yhat):\n",
        "    res = {'MSE': metrics.mean_squared_error(y,yhat),\n",
        "           'RMSE': np.sqrt(metrics.mean_squared_error(y,yhat)),\n",
        "           'MAE': metrics.mean_absolute_error(y,yhat),\n",
        "           'RMSLE': np.sqrt(metrics.mean_squared_log_error(y,yhat))\n",
        "          }\n",
        "    return res"
      ],
      "metadata": {
        "id": "cyfGXVF57r2i"
      },
      "execution_count": null,
      "outputs": []
    }
  ],
  "metadata": {
    "colab": {
      "provenance": [],
      "mount_file_id": "1bomiPiyL0l9DMgwCM6t1avgL-6MOSlii",
      "authorship_tag": "ABX9TyM2sOIZFl7Qn+YQHPLYz9BQ",
      "include_colab_link": true
    },
    "kernelspec": {
      "display_name": "Python 3",
      "name": "python3"
    },
    "language_info": {
      "name": "python"
    }
  },
  "nbformat": 4,
  "nbformat_minor": 0
}